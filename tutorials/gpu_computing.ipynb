{
 "cells": [
  {
   "cell_type": "markdown",
   "metadata": {},
   "source": [
    "# GPU Computing (WIP)\n",
    "\n",
    "MagPy supports calculations on GPUs via PyTorch and CUDA. The `set_device` function is used to specify the device, where the default value is `cpu`."
   ]
  },
  {
   "cell_type": "code",
   "execution_count": null,
   "metadata": {},
   "outputs": [],
   "source": [
    "import torch\n",
    "import numpy as np\n",
    "import magpy as mp\n",
    "from magpy import X, Y\n",
    "\n",
    "mp.set_device('cuda')     # Default CUDA device\n",
    "mp.set_device('cuda:0')   # First available GPU"
   ]
  },
  {
   "cell_type": "markdown",
   "metadata": {},
   "source": [
    "Evaluating operators will now put their matrix representations on the GPU."
   ]
  },
  {
   "cell_type": "code",
   "execution_count": null,
   "metadata": {},
   "outputs": [],
   "source": [
    "H = np.sin*X() + 4*Y()\n",
    "H(3)"
   ]
  },
  {
   "cell_type": "markdown",
   "metadata": {},
   "source": [
    "When using the solvers on a GPU, time-dependent Hamiltonians must contain only `torch` functions."
   ]
  },
  {
   "cell_type": "code",
   "execution_count": null,
   "metadata": {},
   "outputs": [],
   "source": [
    "H = torch.sin*X() + 4*Y()\n",
    "rho0 = Y()\n",
    "tlist = mp.timegrid(0, 10, 0.5**6)"
   ]
  }
 ],
 "metadata": {
  "kernelspec": {
   "display_name": ".venv",
   "language": "python",
   "name": "python3"
  },
  "language_info": {
   "codemirror_mode": {
    "name": "ipython",
    "version": 3
   },
   "file_extension": ".py",
   "mimetype": "text/x-python",
   "name": "python",
   "nbconvert_exporter": "python",
   "pygments_lexer": "ipython3",
   "version": "3.10.12"
  }
 },
 "nbformat": 4,
 "nbformat_minor": 2
}
