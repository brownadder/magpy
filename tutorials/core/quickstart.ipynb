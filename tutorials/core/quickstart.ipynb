{
 "cells": [
  {
   "cell_type": "markdown",
   "metadata": {},
   "source": [
    "# Quickstart: core classes\n",
    "\n",
    "MagPy provides three core class structures for representing quantum operators:\n",
    "\n",
    "- PauliString\n",
    "- FunctionProduct\n",
    "- HamiltonianOperator\n",
    "\n",
    "The algebra of these objects has been defined such that one may construct these operators in code in a manner similar to that of mathematics."
   ]
  },
  {
   "cell_type": "code",
   "execution_count": 2,
   "metadata": {},
   "outputs": [],
   "source": [
    "from magpy import PauliString as PS, FunctionProduct as FP, HamiltonianOperator as HOp\n",
    "import numpy as np"
   ]
  },
  {
   "cell_type": "markdown",
   "metadata": {},
   "source": [
    "\n",
    "---\n",
    "\n",
    "## PauliString\n",
    "\n",
    "Operators of one or more qubits formed of the Pauli operators (and identity). \n",
    "\n",
    "The methods `PS.X()`, `PS.Y()`, `PS.Z()` construct operators formed solely of the respective Pauli operators, taking as arguments the indices at which to insert the operators. In code, the presence of identity operators and the number of qubits is inferred.\n",
    "\n",
    "Example:\n",
    "\n",
    "$$\n",
    "\\begin{aligned}\n",
    "A &= 3 \\, (\\sigma_x \\otimes \\text{Id} \\otimes \\sigma_x \\otimes \\sigma_y) \\\\\n",
    "B &= \\sigma_y \\otimes \\sigma_x \\otimes \\text{Id} \\otimes \\text{Id}\n",
    "\\end{aligned}\n",
    "$$"
   ]
  },
  {
   "cell_type": "code",
   "execution_count": 3,
   "metadata": {},
   "outputs": [
    {
     "name": "stdout",
     "output_type": "stream",
     "text": [
      "3*{1: x, 3: x, 4: y}\n",
      "1*{1: y, 2: x}\n",
      "3j*{1: z, 2: x, 3: x, 4: y}\n"
     ]
    }
   ],
   "source": [
    "A = 3 * PS.X(1) * PS.X(3) * PS.Y(4)\n",
    "B = PS.Y(1) * PS.X(2)\n",
    "\n",
    "print(A)\n",
    "print(B)\n",
    "print(A*B)"
   ]
  },
  {
   "cell_type": "markdown",
   "metadata": {},
   "source": [
    "\n",
    "---\n",
    "\n",
    "## FunctionProduct\n",
    "\n",
    "Inserting `FP()` at the start of a product of functions will combine them accordingly. FunctionProducts can in turn be multiplied by other instances and functions.\n",
    "\n",
    "Example:\n",
    "\n",
    "$$\n",
    "\\begin{aligned}\n",
    "f(t) &= \\sin^2(t) \\\\\n",
    "g(t) &= t^2 f(t)\n",
    "\\end{aligned}$$"
   ]
  },
  {
   "cell_type": "code",
   "execution_count": 4,
   "metadata": {},
   "outputs": [
    {
     "name": "stdout",
     "output_type": "stream",
     "text": [
      "1*{<ufunc 'sin'>: 2, <function <lambda> at 0x7f3a541fbb50>: 1}\n",
      "2.4674011002723395\n"
     ]
    }
   ],
   "source": [
    "f = FP() * np.sin * np.sin\n",
    "g = (lambda t : t**2) * f\n",
    "\n",
    "print(g)\n",
    "print(g(np.pi / 2))"
   ]
  },
  {
   "cell_type": "markdown",
   "metadata": {},
   "source": [
    "\n",
    "---\n",
    "\n",
    "## HamiltonianOperator\n",
    "\n",
    "Combining functions and PauliStrings, one may create Hamiltonian operators.\n",
    "\n",
    "Example:\n",
    "\n",
    "$$\n",
    "\\begin{aligned}\n",
    "H &= \\sin(t) \\, (\\sigma_x \\otimes \\text{Id}) \\\\\n",
    "G &= \\cos(t) \\, (\\text{Id} \\otimes \\sigma_y)\n",
    "\\end{aligned}\n",
    "$$"
   ]
  },
  {
   "cell_type": "code",
   "execution_count": 7,
   "metadata": {},
   "outputs": [
    {
     "name": "stdout",
     "output_type": "stream",
     "text": [
      "{<ufunc 'sin'>: 1*{1: x}}\n",
      "{<ufunc 'cos'>: 1*{2: y}}\n"
     ]
    }
   ],
   "source": [
    "H = np.sin * PS.X(1)\n",
    "G = np.cos * PS.Y(2)\n",
    "\n",
    "print(H)\n",
    "print(G)"
   ]
  },
  {
   "cell_type": "markdown",
   "metadata": {},
   "source": [
    "These may be summed and composed:\n",
    "\n",
    "$$\n",
    "\\begin{aligned}\n",
    "H + G &= \\sin(t) \\, (\\sigma_x \\otimes \\text{Id}) + \\cos(t) \\, (\\text{Id} \\otimes \\sigma_y) \\\\\n",
    "HG &= \\sin(t)\\cos(t) \\, (\\sigma_x \\otimes \\sigma_y)\n",
    "\\end{aligned}\n",
    "$$"
   ]
  },
  {
   "cell_type": "code",
   "execution_count": 9,
   "metadata": {},
   "outputs": [
    {
     "name": "stdout",
     "output_type": "stream",
     "text": [
      "{<ufunc 'sin'>: 1*{1: x}, <ufunc 'cos'>: 1*{2: y}}\n",
      "{1*{<ufunc 'sin'>: 1, <ufunc 'cos'>: 1}: 1*{1: x, 2: y}}\n"
     ]
    }
   ],
   "source": [
    "print(H + G)\n",
    "print(H*G)"
   ]
  }
 ],
 "metadata": {
  "kernelspec": {
   "display_name": ".venv",
   "language": "python",
   "name": "python3"
  },
  "language_info": {
   "codemirror_mode": {
    "name": "ipython",
    "version": 3
   },
   "file_extension": ".py",
   "mimetype": "text/x-python",
   "name": "python",
   "nbconvert_exporter": "python",
   "pygments_lexer": "ipython3",
   "version": "3.10.12"
  }
 },
 "nbformat": 4,
 "nbformat_minor": 2
}
