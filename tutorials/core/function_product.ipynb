{
 "cells": [
  {
   "cell_type": "markdown",
   "metadata": {},
   "source": [
    "# FunctionProduct\n",
    "\n",
    "This class represents a product of scalar functions, with general form\n",
    "\n",
    "$$c\\prod_i f_i,$$\n",
    "\n",
    "where $c \\in \\mathbb{C}$ and $f_i$ are functions.\n",
    "\n",
    "The internal structure is a dictionary of functions paired with their exponents in the product and a scalar coefficient."
   ]
  },
  {
   "cell_type": "code",
   "execution_count": 2,
   "metadata": {},
   "outputs": [],
   "source": [
    "from magpy import FunctionProduct as FP\n",
    "import numpy as np"
   ]
  },
  {
   "cell_type": "markdown",
   "metadata": {},
   "source": [
    "\n",
    "---\n",
    "\n",
    "### Instantiation\n",
    "\n",
    "The constructor takes a variable number of functions which form the product.\n",
    "\n",
    "The function\n",
    "\n",
    "$$f = t^2 \\sin(t) \\cos(t)$$\n",
    "\n",
    "may be written as"
   ]
  },
  {
   "cell_type": "code",
   "execution_count": 3,
   "metadata": {},
   "outputs": [
    {
     "data": {
      "text/plain": [
       "1*{<function <lambda> at 0x7fdbbed77760>: 1, <ufunc 'sin'>: 1, <ufunc 'cos'>: 1}"
      ]
     },
     "execution_count": 3,
     "metadata": {},
     "output_type": "execute_result"
    }
   ],
   "source": [
    "f = FP(lambda t : t**2, np.sin, np.cos)\n",
    "f"
   ]
  },
  {
   "cell_type": "markdown",
   "metadata": {},
   "source": [
    "or"
   ]
  },
  {
   "cell_type": "code",
   "execution_count": 4,
   "metadata": {},
   "outputs": [],
   "source": [
    "f = FP() * (lambda t : t**2) * np.sin * np.cos"
   ]
  },
  {
   "cell_type": "markdown",
   "metadata": {},
   "source": [
    "This second form is possible due to the definition of multiplication of FunctionProducts. See below.\n",
    "\n",
    "---\n",
    "\n",
    "### Evaluation\n",
    "\n",
    "FunctionProducts are evaluated like any other Python function:"
   ]
  },
  {
   "cell_type": "code",
   "execution_count": 5,
   "metadata": {},
   "outputs": [
    {
     "data": {
      "text/plain": [
       "-1.5136049906158566"
      ]
     },
     "execution_count": 5,
     "metadata": {},
     "output_type": "execute_result"
    }
   ],
   "source": [
    "f(2)"
   ]
  },
  {
   "cell_type": "markdown",
   "metadata": {},
   "source": [
    "\n",
    "---\n",
    "\n",
    "### Multiplication\n",
    "\n",
    "FunctionProducts can be multiplied by both themselves and scalar constants. Multiplication with both is commutative.\n",
    "\n",
    "Example:\n",
    "\n",
    "$$\n",
    "\\begin{aligned}\n",
    "g &= \\sin^2(t) \\\\\n",
    "h &= \\cos(t) \\sin(t)\n",
    "\\end{aligned}$$\n",
    "\n",
    "$$ 2gh = 2 \\cos(t) \\sin^3(t)$$"
   ]
  },
  {
   "cell_type": "code",
   "execution_count": 6,
   "metadata": {},
   "outputs": [
    {
     "data": {
      "text/plain": [
       "2*{<ufunc 'cos'>: 1, <ufunc 'sin'>: 3}"
      ]
     },
     "execution_count": 6,
     "metadata": {},
     "output_type": "execute_result"
    }
   ],
   "source": [
    "g = FP() * np.sin * np.sin\n",
    "h = FP() * np.cos * np.sin\n",
    "2 * g * h"
   ]
  },
  {
   "cell_type": "markdown",
   "metadata": {},
   "source": [
    "The `FP()` term defines a trivial FunctionProduct (constant value of 1) which, when multiplied by a function, will add them to its list of functions.\n",
    "\n",
    "---\n",
    "\n",
    "### Equality\n",
    "\n",
    "Two FunctionProducts are said to be equal if they share the same functions, exponents, and scalar coefficient. \n",
    "\n",
    "N.B. different definitions of the same function won't necessary be detected as the same function. For example,"
   ]
  },
  {
   "cell_type": "code",
   "execution_count": 8,
   "metadata": {},
   "outputs": [
    {
     "data": {
      "text/plain": [
       "False"
      ]
     },
     "execution_count": 8,
     "metadata": {},
     "output_type": "execute_result"
    }
   ],
   "source": [
    "FP(np.sin) == FP(lambda t : np.sin(t))"
   ]
  }
 ],
 "metadata": {
  "kernelspec": {
   "display_name": ".venv",
   "language": "python",
   "name": "python3"
  },
  "language_info": {
   "codemirror_mode": {
    "name": "ipython",
    "version": 3
   },
   "file_extension": ".py",
   "mimetype": "text/x-python",
   "name": "python",
   "nbconvert_exporter": "python",
   "pygments_lexer": "ipython3",
   "version": "3.10.12"
  }
 },
 "nbformat": 4,
 "nbformat_minor": 2
}
