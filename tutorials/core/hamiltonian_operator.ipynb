{
 "cells": [
  {
   "cell_type": "markdown",
   "metadata": {},
   "source": [
    "# HamiltonianOperator\n",
    "\n",
    "This class provides a symbolic representation of a Hamiltonian operator. Both constant and time-dependent Hamiltonians are supported.\n",
    "\n",
    "The general form of a HamiltonianOperator is\n",
    "\n",
    "$$\\sum_i f_i \\, \\Rho_i,$$\n",
    "\n",
    "where $f_i$ are functions (or constants) and $\\Rho_i$ are PauliStrings. \n",
    "\n",
    "The internal structure is a dictionary of functions paired with one or more PauliStrings."
   ]
  },
  {
   "cell_type": "code",
   "execution_count": 11,
   "metadata": {},
   "outputs": [],
   "source": [
    "from magpy import HamiltonianOperator as HOp, PauliString as PS, X, Y, Z\n",
    "import numpy as np"
   ]
  },
  {
   "cell_type": "markdown",
   "metadata": {},
   "source": [
    "\n",
    "---\n",
    "\n",
    "### Instantiation\n",
    "\n",
    "The constructor takes a variable number of two element lists, which are coefficient-PauliString pairs. The coefficients may be functions or constants.\n",
    "\n",
    "For example,\n",
    "\n",
    "$$H = \\sin(t)(\\sigma_x \\otimes \\text{Id}) + \\cos(t)(\\text{Id} \\otimes \\sigma_y) + 2(\\sigma_x\\otimes\\sigma_z)$$\n",
    "\n",
    "may be written as"
   ]
  },
  {
   "cell_type": "code",
   "execution_count": 12,
   "metadata": {},
   "outputs": [
    {
     "data": {
      "text/plain": [
       "{sin: 1*X1, cos: 1*Y2, 1: 2*X1*Z2}"
      ]
     },
     "execution_count": 12,
     "metadata": {},
     "output_type": "execute_result"
    }
   ],
   "source": [
    "H = HOp([np.sin, X(1)], [np.cos, Y(2)], [2, PS(x=1, z=2)])\n",
    "H"
   ]
  },
  {
   "cell_type": "markdown",
   "metadata": {},
   "source": [
    "As with PauliStrings and FunctionProducts, there is a better way to construct HamiltonianOperators. The same operator can be written as:"
   ]
  },
  {
   "cell_type": "code",
   "execution_count": 13,
   "metadata": {},
   "outputs": [],
   "source": [
    "H = np.sin*X(1) + np.cos*Y(2) + 2*X(1)*Z(2)"
   ]
  },
  {
   "cell_type": "markdown",
   "metadata": {},
   "source": [
    "This form reads in the same manner as the mathematical definition above.\n",
    "\n",
    "---\n",
    "\n",
    "### Addition\n",
    "\n",
    "HamiltonianOperators may be summed.\n",
    "\n",
    "Example:\n",
    "\n",
    "$$\n",
    "\\begin{aligned}\n",
    "H &= \\sin(t) \\, (\\sigma_x \\otimes \\sigma_y) + 3 \\, (\\sigma_x \\otimes \\sigma_z)\\\\\n",
    "G &= \\cos(t) \\, (\\sigma_x \\otimes \\text{Id}) + 2 \\, (\\sigma_y \\otimes \\sigma_z)\n",
    "\\end{aligned}\n",
    "$$\n",
    "\n",
    "$$H + G = \\sin(t)\\,(\\sigma_x \\otimes \\sigma_y) + \\cos(t) \\, (\\sigma_x \\otimes \\text{Id}) + 2 \\, (\\sigma_y \\otimes \\sigma_z) + 3 \\, (\\sigma_x \\otimes \\sigma_z)$$"
   ]
  },
  {
   "cell_type": "code",
   "execution_count": 14,
   "metadata": {},
   "outputs": [
    {
     "data": {
      "text/plain": [
       "{sin: 1*X1*Y2, 1: [3*X1*Z2, 2*Y1*Z2], cos: 1*X1}"
      ]
     },
     "execution_count": 14,
     "metadata": {},
     "output_type": "execute_result"
    }
   ],
   "source": [
    "H = np.sin*X(1)*Y(2) + 3*X(1)*Z(2)\n",
    "G = np.cos*X(1) + 2*Y(1)*Z(2)\n",
    "H + G"
   ]
  },
  {
   "cell_type": "markdown",
   "metadata": {},
   "source": [
    "Here we can see how constant terms are grouped when simplifying."
   ]
  },
  {
   "cell_type": "markdown",
   "metadata": {},
   "source": [
    "\n",
    "---\n",
    "\n",
    "### Scalar multiplication\n",
    "\n",
    "Multiplying by a scalar will distribute the scalar over the PauliStrings within the operator. This reduces the complexity of the coefficients."
   ]
  },
  {
   "cell_type": "code",
   "execution_count": 15,
   "metadata": {},
   "outputs": [
    {
     "data": {
      "text/plain": [
       "{sin: 2*X1*Y2, 1: 6*X1*Z2}"
      ]
     },
     "execution_count": 15,
     "metadata": {},
     "output_type": "execute_result"
    }
   ],
   "source": [
    "H = np.sin*X(1)*Y(2) + 3*X(1)*Z(2)\n",
    "2 * H"
   ]
  },
  {
   "cell_type": "markdown",
   "metadata": {},
   "source": [
    "\n",
    "---\n",
    "\n",
    "### Function multiplication\n",
    "\n",
    "Multiplying by a function behaves in the same manner as scalars. Each coefficient in the operator is changed to a FunctionProduct to accommodate the product."
   ]
  },
  {
   "cell_type": "code",
   "execution_count": 16,
   "metadata": {},
   "outputs": [
    {
     "data": {
      "text/plain": [
       "{FP: 1*X1*Y2, FP: 3*X1*Z2}"
      ]
     },
     "execution_count": 16,
     "metadata": {},
     "output_type": "execute_result"
    }
   ],
   "source": [
    "np.sin * H"
   ]
  },
  {
   "cell_type": "markdown",
   "metadata": {},
   "source": [
    "\n",
    "---\n",
    "\n",
    "### Composition\n",
    "\n",
    "MagPy will distribute and simplify algebraically when composition HamiltonianOperators.\n",
    "\n",
    "Using the same $H$ and $G$ from above,\n",
    "$$HG = -2\\sin(t)(\\sigma_z \\otimes \\sigma_x) + 6i(\\sigma_z \\otimes \\text{Id}).$$"
   ]
  },
  {
   "cell_type": "code",
   "execution_count": 17,
   "metadata": {},
   "outputs": [
    {
     "data": {
      "text/plain": [
       "{FP: 1*Y2, FP: (-2+0j)*Z1*X2, FP: 3*Z2, FP: 6j*Z1}"
      ]
     },
     "execution_count": 17,
     "metadata": {},
     "output_type": "execute_result"
    }
   ],
   "source": [
    "H * G"
   ]
  },
  {
   "cell_type": "markdown",
   "metadata": {},
   "source": [
    "\n",
    "---\n",
    "\n",
    "### Equality\n",
    "\n",
    "Two HamiltonianOperators are said to be equal if they share their internal dictionaries share the same coefficients and corresponding PauliStrings."
   ]
  },
  {
   "cell_type": "code",
   "execution_count": 18,
   "metadata": {},
   "outputs": [
    {
     "data": {
      "text/plain": [
       "True"
      ]
     },
     "execution_count": 18,
     "metadata": {},
     "output_type": "execute_result"
    }
   ],
   "source": [
    "np.sin*X(1)*Y(2) + 3*X(1)*Z(2) == 3*Z(2)*X(1) + np.sin*X(1)*Y(2)"
   ]
  }
 ],
 "metadata": {
  "kernelspec": {
   "display_name": ".venv",
   "language": "python",
   "name": "python3"
  },
  "language_info": {
   "codemirror_mode": {
    "name": "ipython",
    "version": 3
   },
   "file_extension": ".py",
   "mimetype": "text/x-python",
   "name": "python",
   "nbconvert_exporter": "python",
   "pygments_lexer": "ipython3",
   "version": "3.10.12"
  }
 },
 "nbformat": 4,
 "nbformat_minor": 2
}
