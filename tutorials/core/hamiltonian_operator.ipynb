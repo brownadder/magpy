{
 "cells": [
  {
   "cell_type": "markdown",
   "metadata": {},
   "source": [
    "# HamiltonianOperator (WIP)\n",
    "\n",
    "This class provides a symbolic representation of a Hamiltonian operator. Both constant and time-dependent Hamiltonians are supported.\n",
    "\n",
    "The general form of a HamiltonianOperator is\n",
    "\n",
    "$$\\sum_i f_i \\, \\Rho_i + \\sum_i \\Rho_i,$$\n",
    "\n",
    "where $f_i$ are functions and $\\Rho_i$ are PauliStrings. Any scalar coefficients are absorbed into the PauliStrings. This results in any constant terms in the operator to be grouped under the constant unit coefficient. MagPy's aim here is to minimise the complexity of the non-constant terms, simplifying computation.\n",
    "\n",
    "The internal structure is a dictionary of functions paired with one or more PauliStrings."
   ]
  },
  {
   "cell_type": "code",
   "execution_count": 6,
   "metadata": {},
   "outputs": [],
   "source": [
    "from magpy import HamiltonianOperator as HOp, PauliString as PS\n",
    "import numpy as np"
   ]
  },
  {
   "cell_type": "markdown",
   "metadata": {},
   "source": [
    "\n",
    "---\n",
    "\n",
    "### Instantiation\n",
    "\n",
    "The constructor takes a variable number of two element lists, which are coefficient-PauliString pairs. The coefficients may be functions or constants.\n",
    "\n",
    "For example,\n",
    "\n",
    "$$H = \\sin(t)(\\sigma_x \\otimes \\text{Id}) + \\cos(t)(\\text{Id} \\otimes \\sigma_y) + 2(\\sigma_x\\otimes\\sigma_z)$$\n",
    "\n",
    "may be written as"
   ]
  },
  {
   "cell_type": "code",
   "execution_count": 7,
   "metadata": {},
   "outputs": [
    {
     "data": {
      "text/plain": [
       "{<ufunc 'sin'>: 1*{1: x}, <ufunc 'cos'>: 1*{2: y}, 1: 2*{1: x, 2: z}}"
      ]
     },
     "execution_count": 7,
     "metadata": {},
     "output_type": "execute_result"
    }
   ],
   "source": [
    "H = HOp([np.sin, PS.X(1)], [np.cos, PS.Y(2)], [2, PS(x=1, z=2)])\n",
    "H"
   ]
  },
  {
   "cell_type": "markdown",
   "metadata": {},
   "source": [
    "As with PauliStrings and FunctionProducts, there is a better way to construct HamiltonianOperators. The same operator can be written as:"
   ]
  },
  {
   "cell_type": "code",
   "execution_count": 8,
   "metadata": {},
   "outputs": [],
   "source": [
    "H = np.sin*PS.X(1) + np.cos*PS.Y(2) + 2*PS.X(1)*PS.Z(2)"
   ]
  },
  {
   "cell_type": "markdown",
   "metadata": {},
   "source": [
    "This form reads in the same manner as the mathematical definition above.\n",
    "\n",
    "---\n",
    "\n",
    "### Addition\n",
    "\n",
    "HamiltonianOperators may be summed.\n",
    "\n",
    "Example:\n",
    "\n",
    "$$\n",
    "\\begin{aligned}\n",
    "H &= \\sin(t) \\, (\\sigma_x \\otimes \\sigma_y) + 3 \\, (\\sigma_x \\otimes \\sigma_z)\\\\\n",
    "G &= 2 \\, (\\sigma_y \\otimes \\sigma_z)\n",
    "\\end{aligned}\n",
    "$$\n",
    "\n",
    "$$H + G = \\sin(t)\\,\\sigma_x + 2\\,\\sigma_y + 3 \\, (\\sigma_x \\otimes \\sigma_z)$$"
   ]
  },
  {
   "cell_type": "code",
   "execution_count": 13,
   "metadata": {},
   "outputs": [
    {
     "data": {
      "text/plain": [
       "{<ufunc 'sin'>: 1*{1: x, 2: y}, 1: [3*{1: x, 2: z}, 2*{1: y, 2: z}]}"
      ]
     },
     "execution_count": 13,
     "metadata": {},
     "output_type": "execute_result"
    }
   ],
   "source": [
    "H = np.sin*PS.X(1)*PS.Y(2) + 3*PS.X(1)*PS.Z(2)\n",
    "G = 2*PS.Y(1)*PS.Z(2)\n",
    "H + G"
   ]
  },
  {
   "cell_type": "markdown",
   "metadata": {},
   "source": [
    "Here we can see how constant terms are grouped when simplifying."
   ]
  },
  {
   "cell_type": "markdown",
   "metadata": {},
   "source": [
    "\n",
    "---\n",
    "\n",
    "### Scalar Multiplication"
   ]
  },
  {
   "cell_type": "markdown",
   "metadata": {},
   "source": [
    "\n",
    "---\n",
    "\n",
    "### Composition"
   ]
  }
 ],
 "metadata": {
  "kernelspec": {
   "display_name": ".venv",
   "language": "python",
   "name": "python3"
  },
  "language_info": {
   "codemirror_mode": {
    "name": "ipython",
    "version": 3
   },
   "file_extension": ".py",
   "mimetype": "text/x-python",
   "name": "python",
   "nbconvert_exporter": "python",
   "pygments_lexer": "ipython3",
   "version": "3.10.12"
  }
 },
 "nbformat": 4,
 "nbformat_minor": 2
}
