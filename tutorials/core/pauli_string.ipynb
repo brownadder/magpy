{
 "cells": [
  {
   "cell_type": "markdown",
   "metadata": {},
   "source": [
    "# PauliString (WIP)\n",
    "\n",
    "This class provides a symbolic representation of a Pauli operator of one or many qubits.\n",
    "\n",
    "The general form of any PauliString is \n",
    "\n",
    "$$c\\bigotimes_{i}\\sigma_i$$\n",
    "\n",
    "where $c \\in \\mathbb{C}$ and $\\sigma_i$ corresponds to a Pauli operator or the identity operator. We will see that, in code, the presence of identity operators is inferred.\n",
    "\n",
    "The internal representation is a dictionary of indices with their respective operators and a scalar coefficient. N.B. indices are one-based."
   ]
  },
  {
   "cell_type": "code",
   "execution_count": 32,
   "metadata": {},
   "outputs": [],
   "source": [
    "from magpy import PauliString as PS"
   ]
  },
  {
   "cell_type": "markdown",
   "metadata": {},
   "source": [
    "\n",
    "---\n",
    "### Instantiation\n",
    "\n",
    "The constructor takes integers and/or sets of integers corresponding to the position(s) in which to insert each operator. Any gaps are inferred to be identity operators. \n",
    "\n",
    "\n",
    "We will see later that a much tidier way to write constructors can be achieved using composition.\n",
    "\n",
    "For example,\n",
    "\n",
    "$$A = \\sigma_x \\otimes \\text{Id} \\otimes \\sigma_x \\otimes \\sigma_y,$$\n",
    "\n",
    "may be written as"
   ]
  },
  {
   "cell_type": "code",
   "execution_count": 33,
   "metadata": {},
   "outputs": [
    {
     "data": {
      "text/plain": [
       "1*{1: x, 3: x, 4: y}"
      ]
     },
     "execution_count": 33,
     "metadata": {},
     "output_type": "execute_result"
    }
   ],
   "source": [
    "A = PS(x={1, 3}, y=4)\n",
    "A"
   ]
  },
  {
   "cell_type": "markdown",
   "metadata": {},
   "source": [
    "MagPy also provides explicit methods for the three pauli operators. These may be used when the operator includes only one of the Pauli operators (and identity).\n",
    "\n",
    "These constructors default to a single qubit when provided with no arguments.\n",
    "\n",
    "For example,\n",
    "\n",
    "$$\n",
    "\\begin{aligned}\n",
    "B &= \\text{Id} \\otimes \\sigma_x \\otimes \\sigma_x \\\\\n",
    "C &= \\sigma_y\n",
    "\\end{aligned}\n",
    "$$\n",
    "\n",
    "may be written as"
   ]
  },
  {
   "cell_type": "code",
   "execution_count": 34,
   "metadata": {},
   "outputs": [],
   "source": [
    "B = PS.X(2, 3)\n",
    "C = PS.Y()"
   ]
  },
  {
   "cell_type": "markdown",
   "metadata": {},
   "source": [
    "Albeit trivial, for completeness there is an identity operator constructor:"
   ]
  },
  {
   "cell_type": "code",
   "execution_count": 35,
   "metadata": {},
   "outputs": [
    {
     "data": {
      "text/plain": [
       "1*{}"
      ]
     },
     "execution_count": 35,
     "metadata": {},
     "output_type": "execute_result"
    }
   ],
   "source": [
    "Id = PS.Id()\n",
    "Id"
   ]
  },
  {
   "cell_type": "markdown",
   "metadata": {},
   "source": [
    "\n",
    "---\n",
    "\n",
    "### Scalar coefficients\n",
    "\n",
    "PauliStrings have constant scalar coefficients and can perform scalar multiplication.\n",
    "\n",
    "For example,\n",
    "\n",
    "$$ D = 2i \\, (\\sigma_x \\otimes \\sigma_y)$$\n",
    "\n",
    "may be written as"
   ]
  },
  {
   "cell_type": "code",
   "execution_count": 36,
   "metadata": {},
   "outputs": [
    {
     "data": {
      "text/plain": [
       "2j*{1: x, 2: y}"
      ]
     },
     "execution_count": 36,
     "metadata": {},
     "output_type": "execute_result"
    }
   ],
   "source": [
    "D = 2j * PS(x=1, y=2)\n",
    "D"
   ]
  },
  {
   "cell_type": "markdown",
   "metadata": {},
   "source": [
    "\n",
    "---\n",
    "\n",
    "### Composition\n",
    "\n",
    "PauliStrings may be composed. Where possible, operators will be simplified algebraically. \n",
    "\n",
    "The composition operator allows for writing constructors in a more mathematical manner than that which was detailed above.\n",
    "\n",
    "The operator \n",
    "\n",
    "$$\\sigma_x \\otimes \\sigma_y$$\n",
    "\n",
    "may be written as"
   ]
  },
  {
   "cell_type": "code",
   "execution_count": 37,
   "metadata": {},
   "outputs": [
    {
     "data": {
      "text/plain": [
       "1*{1: x, 2: y}"
      ]
     },
     "execution_count": 37,
     "metadata": {},
     "output_type": "execute_result"
    }
   ],
   "source": [
    "PS.X(1) * PS.Y(2)"
   ]
  },
  {
   "cell_type": "markdown",
   "metadata": {},
   "source": [
    "Note that this is different from"
   ]
  },
  {
   "cell_type": "code",
   "execution_count": 38,
   "metadata": {},
   "outputs": [
    {
     "data": {
      "text/plain": [
       "1j*{1: z}"
      ]
     },
     "execution_count": 38,
     "metadata": {},
     "output_type": "execute_result"
    }
   ],
   "source": [
    "PS.X() * PS.Y()"
   ]
  },
  {
   "cell_type": "markdown",
   "metadata": {},
   "source": [
    "which is \n",
    "\n",
    "$$\\sigma_x \\sigma_y = i \\, \\sigma_z.$$"
   ]
  },
  {
   "cell_type": "markdown",
   "metadata": {},
   "source": [
    "The first operator can be written as\n",
    "\n",
    "$$(\\sigma_x \\otimes \\text{Id})\\,(\\text{Id} \\otimes \\sigma_y),$$\n",
    "\n",
    "which is the form taken in code. This layout highlights the fact that $\\sigma_x$ is acting on the first qubit and $\\sigma_y$ on the second.\n",
    "\n",
    "The asterisk binary operator only performs operator composition, _not_ the tensor product. The tensor product is implied by the structure of the PauliStrings.\n",
    "\n",
    "Here is a more sophisticated example:\n",
    "\n",
    "$$\n",
    "\\begin{aligned}\n",
    "E &= \\sigma_y \\otimes \\sigma_y \\otimes \\text{Id} \\\\\n",
    "F &= \\sigma_x \\otimes \\text{Id} \\otimes \\sigma_z \\\\\n",
    "\\end{aligned}$$\n",
    "\n",
    "$$EF = -i \\, (\\sigma_z \\otimes \\sigma_y \\otimes \\sigma_z)$$\n"
   ]
  },
  {
   "cell_type": "code",
   "execution_count": 39,
   "metadata": {},
   "outputs": [
    {
     "data": {
      "text/plain": [
       "-1j*{1: z, 2: y, 3: z}"
      ]
     },
     "execution_count": 39,
     "metadata": {},
     "output_type": "execute_result"
    }
   ],
   "source": [
    "E = PS.Y(1) * PS.Y(2)\n",
    "F = PS.X(1) * PS.Z(3)\n",
    "E * F"
   ]
  },
  {
   "cell_type": "markdown",
   "metadata": {},
   "source": [
    "Here we can see the implicit appearance of the identity operator. Particularly in `E`, we can see how any number of identity operators after the last Pauli operator may be assumed to be there.\n",
    "\n",
    "This means that our defintion of `E` is functionally equivalent in code to \n",
    "\n",
    "$$\n",
    "\\begin{aligned}\n",
    "&\\sigma_y \\otimes \\sigma_y, \\\\\n",
    "&\\sigma_y \\otimes \\sigma_y \\otimes \\text{Id}, \\\\\n",
    "&\\sigma_y \\otimes \\sigma_y \\otimes \\text{Id} \\otimes \\text{Id}, \\\\\n",
    "\\end{aligned}\n",
    "$$\n",
    "\n",
    "and so on. Identity operators may be explicitly included for readability's sake, although it is functionally pointless.\n",
    "\n",
    "---\n",
    "\n",
    "### Addition\n",
    "\n",
    "Summing two PauliStrings results in a constant HamiltonianOperator.\n",
    "\n",
    "The operator\n",
    "\n",
    "$$2 \\, \\sigma_x + \\sigma_y$$\n",
    "\n",
    "can be written as"
   ]
  },
  {
   "cell_type": "code",
   "execution_count": 40,
   "metadata": {},
   "outputs": [
    {
     "data": {
      "text/plain": [
       "{1: [2*{1: x}, 1*{1: y}]}"
      ]
     },
     "execution_count": 40,
     "metadata": {},
     "output_type": "execute_result"
    }
   ],
   "source": [
    "2*PS.X() + PS.Y()"
   ]
  },
  {
   "cell_type": "markdown",
   "metadata": {},
   "source": [
    "See [here]() for more details on HamiltonianOperators."
   ]
  },
  {
   "cell_type": "markdown",
   "metadata": {},
   "source": [
    "\n",
    "### Equality\n",
    "\n",
    "Two PauliStrings are said to be equal if they contain the same qubits in the same indices and have the same scalar coefficients."
   ]
  },
  {
   "cell_type": "code",
   "execution_count": 41,
   "metadata": {},
   "outputs": [
    {
     "data": {
      "text/plain": [
       "True"
      ]
     },
     "execution_count": 41,
     "metadata": {},
     "output_type": "execute_result"
    }
   ],
   "source": [
    "-PS.X(1) * PS.Y(2) == PS(x=1, y=2) * -1"
   ]
  }
 ],
 "metadata": {
  "kernelspec": {
   "display_name": ".venv",
   "language": "python",
   "name": "python3"
  },
  "language_info": {
   "codemirror_mode": {
    "name": "ipython",
    "version": 3
   },
   "file_extension": ".py",
   "mimetype": "text/x-python",
   "name": "python",
   "nbconvert_exporter": "python",
   "pygments_lexer": "ipython3",
   "version": "3.10.12"
  }
 },
 "nbformat": 4,
 "nbformat_minor": 2
}
