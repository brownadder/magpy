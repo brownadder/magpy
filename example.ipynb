{
 "cells": [
  {
   "cell_type": "markdown",
   "metadata": {},
   "source": [
    "## How to use MagPy:\n",
    "\n",
    "MagPy can simulate quantum systems evolving under the Liouville-von Neumann equation,\n",
    "$$\\frac{\\partial\\rho(t)}{\\partial t} = -i\\big[H(t),\\,\\rho(t)\\big],$$\n",
    "given a Hamiltonian $H$ and an initial condition $\\rho_0$.\n",
    "\n",
    "A constant Hamiltonian is represented by an HOp object, which can be passed information to construct the Hamiltonian in two ways:\n",
    "\n",
    "1. Pass a square NumPy array directly:"
   ]
  },
  {
   "cell_type": "code",
   "execution_count": null,
   "metadata": {},
   "outputs": [],
   "source": [
    "import magpy as mp\n",
    "import numpy as np\n",
    "\n",
    "H = mp.HOp(np.array([[1,1],[1,1]]))"
   ]
  },
  {
   "cell_type": "markdown",
   "metadata": {},
   "source": [
    "2. Specify a number of spins, along with a 2x2 array corresponding to each spin. Any spin not accounted for will be assigned the identity matrix:\n",
    "\n",
    "$\\;\\;\\;\\;\\;\\;\\;\\;H_1 = \\sigma_x \\otimes Id,\\;\\;\\;\\;H_2 = \\sigma_y \\otimes \\sigma_x.$"
   ]
  },
  {
   "cell_type": "code",
   "execution_count": null,
   "metadata": {},
   "outputs": [],
   "source": [
    "H1 = mp.HOp(2, 1, mp.sigmax())\n",
    "H2 = mp.HOp(2, (1, mp.sigmay()), (2, mp.sigmax()))"
   ]
  },
  {
   "cell_type": "markdown",
   "metadata": {},
   "source": [
    "The full, time-dependent Hamiltonian is then specified as a dictionary of functional coefficients paired with an HOp object. If a function corresponds to multiple Hamiltonians, it is paired with a list of HOp objects.\n",
    "\n",
    "For the Hamiltonian $H(t) = t(\\sigma_x\\otimes Id) + t(Id\\otimes\\sigma_y) + t^2(\\,\\sigma_y\\otimes\\sigma_x)$:"
   ]
  },
  {
   "cell_type": "code",
   "execution_count": null,
   "metadata": {},
   "outputs": [],
   "source": [
    "def f(t): return t\n",
    "def g(t): return t**2\n",
    "\n",
    "H = {f : [H1, mp.HOp(2, 2, mp.sigmay())], g : H2}"
   ]
  },
  {
   "cell_type": "markdown",
   "metadata": {},
   "source": [
    "Passing this Hamiltonian to the System class creates an object representing a quantum system with that specific Hamiltonian. This object will perform the necessary pre-calculations and store the results to speed up simulation multiple times."
   ]
  },
  {
   "cell_type": "code",
   "execution_count": null,
   "metadata": {},
   "outputs": [],
   "source": [
    "quantum_system = mp.QSystem(H)\n",
    "\n",
    "rho0 = mp.HOp(2, 1, mp.sigmax())\n",
    "tlist = mp.linspace(0, 5, 0.5**7)\n",
    "\n",
    "density_matrices = quantum_system.lvn_solve(rho0, tlist)"
   ]
  },
  {
   "cell_type": "markdown",
   "metadata": {},
   "source": [
    "The expectation value of specific operators on the system can then be plotted using the Frobenius inner product and matplotlib. For example, the x-component of the first spin."
   ]
  },
  {
   "cell_type": "code",
   "execution_count": null,
   "metadata": {},
   "outputs": [],
   "source": [
    "import matplotlib.pyplot as plt\n",
    "\n",
    "x_components = mp.frobenius(density_matrices, mp.kron(mp.sigmax(), mp.eye(2))) / 4\n",
    "\n",
    "plt.plot(tlist, x_components)\n",
    "plt.show()"
   ]
  }
 ],
 "metadata": {
  "kernelspec": {
   "display_name": "Python 3.8.10 ('venv': venv)",
   "language": "python",
   "name": "python3"
  },
  "language_info": {
   "codemirror_mode": {
    "name": "ipython",
    "version": 3
   },
   "file_extension": ".py",
   "mimetype": "text/x-python",
   "name": "python",
   "nbconvert_exporter": "python",
   "pygments_lexer": "ipython3",
   "version": "3.8.10"
  },
  "orig_nbformat": 4,
  "vscode": {
   "interpreter": {
    "hash": "cc877e625a82156f22eb1cd82666bd736b9051280b34c325660fc84ae2245ddf"
   }
  }
 },
 "nbformat": 4,
 "nbformat_minor": 2
}
